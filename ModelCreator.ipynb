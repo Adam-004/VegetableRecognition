{
 "cells": [
  {
   "cell_type": "code",
   "execution_count": null,
   "metadata": {},
   "outputs": [],
   "source": [
    "#installer\n",
    "%pip install tensorflow"
   ]
  },
  {
   "cell_type": "code",
   "execution_count": null,
   "metadata": {},
   "outputs": [
    {
     "name": "stderr",
     "output_type": "stream",
     "text": [
      "C:\\Users\\balog\\AppData\\Local\\Temp\\ipykernel_67884\\2831523222.py:2: DeprecationWarning: \n",
      "Pyarrow will become a required dependency of pandas in the next major release of pandas (pandas 3.0),\n",
      "(to allow more performant data types, such as the Arrow string type, and better interoperability with other libraries)\n",
      "but was not found to be installed on your system.\n",
      "If this would cause problems for you,\n",
      "please provide us feedback at https://github.com/pandas-dev/pandas/issues/54466\n",
      "        \n",
      "  import pandas as pd\n"
     ]
    }
   ],
   "source": [
    "import numpy as np\n",
    "import pandas as pd\n",
    "from pathlib import Path\n",
    "import os.path\n",
    "import matplotlib.pyplot as plt\n",
    "import tensorflow as tf\n",
    "import warnings\n",
    "warnings.filterwarnings(\"ignore\")\n",
    "\n",
    "# Import\n",
    "data_path = 'input'\n",
    "train_dir = Path(data_path + '/train')\n",
    "train_filepaths = list(train_dir.glob(r'**/*.jpg'))\n",
    "\n",
    "test_dir = Path(data_path + '/test')\n",
    "test_filepaths = list(test_dir.glob(r'**/*.jpg'))\n",
    "\n",
    "val_dir = Path(data_path + 'validation')\n",
    "val_filepaths = list(test_dir.glob(r'**/*.jpg'))\n",
    "\n",
    "def process_imgs(filepath):\n",
    "    labels = [Path(filepath[i]).parent.name for i in range(len(filepath))]\n",
    "    filepath = pd.Series(filepath, name='Filepath').astype(str)\n",
    "    labels = pd.Series(labels, name='Label')\n",
    "    \n",
    "    dt = pd.concat([filepath, labels], axis=1)\n",
    "\n",
    "    # Shuffle \n",
    "    dt = dt.sample(frac=1).reset_index(drop = True)\n",
    "    \n",
    "    return dt\n",
    "\n",
    "train_dt = process_imgs(train_filepaths)\n",
    "test_dt = process_imgs(test_filepaths)\n",
    "val_dt = process_imgs(val_filepaths)"
   ]
  },
  {
   "cell_type": "code",
   "execution_count": null,
   "metadata": {},
   "outputs": [],
   "source": [
    "#Check imports\n",
    "print('-- Training set --\\n')\n",
    "print(f'Number of pictures: {train_dt.shape[0]}\\n')\n",
    "print(f'Number of different labels: {len(train_dt.Label.unique())}\\n')\n",
    "print(f'Labels: {train_dt.Label.unique()}')\n",
    "\n",
    "train_dt.head(5)"
   ]
  }
 ],
 "metadata": {
  "kernelspec": {
   "display_name": "Python 3",
   "language": "python",
   "name": "python3"
  },
  "language_info": {
   "codemirror_mode": {
    "name": "ipython",
    "version": 3
   },
   "file_extension": ".py",
   "mimetype": "text/x-python",
   "name": "python",
   "nbconvert_exporter": "python",
   "pygments_lexer": "ipython3",
   "version": "3.11.9"
  }
 },
 "nbformat": 4,
 "nbformat_minor": 2
}
